{
 "cells": [
  {
   "cell_type": "code",
   "execution_count": null,
   "metadata": {},
   "outputs": [],
   "source": [
    "rain_tweets = tweepy.Cursor(api.search, q='RAIN rain', result_type='mixed').items(150)\n",
    "    \n",
    "rain_tweets_list = [[rain_tweet.created_at, rain_tweet.id, rain_tweet.text, \n",
    "                      rain_tweet.favorite_count] \n",
    "                     for rain_tweet in rain_tweets\n",
    "                    ]\n",
    "    \n",
    "rain_tweets_df = pd.DataFrame(rain_tweets_list)"
   ]
  },
  {
   "cell_type": "code",
   "execution_count": null,
   "metadata": {},
   "outputs": [],
   "source": [
    "rain_tweets_df"
   ]
  },
  {
   "cell_type": "code",
   "execution_count": null,
   "metadata": {},
   "outputs": [],
   "source": [
    "cleaned_rain_tweets_df = rain_tweets_df.drop([1], axis = 1)\n",
    "# cleaned_rain_tweets_df\n",
    "\n",
    "new_rain_tweets_df = cleaned_rain_tweets_df.rename(columns={0: \"Tweeted Date\", 2: \"Tweet Description\", 3: \"Popularity Count\"})\n",
    "# new_rain_tweets_df\n",
    "\n",
    "sort_rain_tweets_df = new_rain_tweets_df.sort_values(by=\"Popularity Count\", ascending=False)\n",
    "sort_rain_tweets_df"
   ]
  },
  {
   "cell_type": "code",
   "execution_count": null,
   "metadata": {},
   "outputs": [],
   "source": []
  },
  {
   "cell_type": "code",
   "execution_count": null,
   "metadata": {},
   "outputs": [],
   "source": [
    "rain_korean_tweets = tweepy.Cursor(api.search, q='정지훈 비', result_type='mixed').items(150)\n",
    "    \n",
    "rain_korean_tweets_list = [[rain_korean_tweet.created_at, rain_korean_tweet.id, rain_korean_tweet.text, \n",
    "                      rain_korean_tweet.favorite_count] \n",
    "                     for rain_korean_tweet in rain_korean_tweets\n",
    "                    ]\n",
    "    \n",
    "rain_korean_tweets_df = pd.DataFrame(rain_korean_tweets_list)"
   ]
  },
  {
   "cell_type": "code",
   "execution_count": null,
   "metadata": {},
   "outputs": [],
   "source": [
    "rain_korean_tweets_df"
   ]
  },
  {
   "cell_type": "code",
   "execution_count": null,
   "metadata": {},
   "outputs": [],
   "source": [
    "cleaned_rain_korean_tweets_df = rain_korean_tweets_df.drop([1], axis = 1)\n",
    "# cleaned_rain_korean_tweets_df\n",
    "\n",
    "new_rain_korean_tweets_df = cleaned_rain_korean_tweets_df.rename(columns={0: \"Tweeted Date\", 2: \"Tweet Description\", 3: \"Popularity Count\"})\n",
    "# new_rain_korean_tweets_df\n",
    "\n",
    "sort_rain_korean_tweets_df = new_rain_korean_tweets_df.sort_values(by=\"Popularity Count\", ascending=False)\n",
    "sort_rain_korean_tweets_df"
   ]
  },
  {
   "cell_type": "code",
   "execution_count": null,
   "metadata": {},
   "outputs": [],
   "source": []
  },
  {
   "cell_type": "code",
   "execution_count": null,
   "metadata": {},
   "outputs": [],
   "source": [
    "jtune_tweets = tweepy.Cursor(api.search, q='J. Tune Entertainment', result_type='mixed').items(150)\n",
    "    \n",
    "jtune_tweets_list = [[jtune_tweet.created_at, jtune_tweet.id, jtune_tweet.text, \n",
    "                      jtune_tweet.favorite_count] \n",
    "                     for jtune_tweet in jtune_tweets\n",
    "                    ]\n",
    "    \n",
    "jtune_tweets_df = pd.DataFrame(jtune_tweets_list)"
   ]
  },
  {
   "cell_type": "code",
   "execution_count": null,
   "metadata": {},
   "outputs": [],
   "source": [
    "jtune_tweets_df"
   ]
  },
  {
   "cell_type": "code",
   "execution_count": null,
   "metadata": {},
   "outputs": [],
   "source": [
    "cleaned_jtune_tweets_df = jtune_tweets_df.drop([1], axis = 1)\n",
    "# cleaned_jtune_tweets_df\n",
    "\n",
    "new_jtune_tweets_df = cleaned_jtune_tweets_df.rename(columns={0: \"Tweeted Date\", 2: \"Tweet Description\", 3: \"Popularity Count\"})\n",
    "# new_jtune_tweets_df\n",
    "\n",
    "sort_jtune_tweets_df = new_jtune_tweets_df.sort_values(by=\"Popularity Count\", ascending=False)\n",
    "sort_jtune_tweets_df"
   ]
  },
  {
   "cell_type": "code",
   "execution_count": null,
   "metadata": {},
   "outputs": [],
   "source": []
  },
  {
   "cell_type": "code",
   "execution_count": null,
   "metadata": {},
   "outputs": [],
   "source": []
  }
 ],
 "metadata": {
  "kernelspec": {
   "display_name": "Python 3",
   "language": "python",
   "name": "python3"
  },
  "language_info": {
   "codemirror_mode": {
    "name": "ipython",
    "version": 3
   },
   "file_extension": ".py",
   "mimetype": "text/x-python",
   "name": "python",
   "nbconvert_exporter": "python",
   "pygments_lexer": "ipython3",
   "version": "3.7.6"
  }
 },
 "nbformat": 4,
 "nbformat_minor": 4
}
