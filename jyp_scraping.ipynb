{
 "cells": [
  {
   "cell_type": "markdown",
   "metadata": {},
   "source": [
    "# Switch With Me - JYP feat. Rain Tweet Scraping"
   ]
  },
  {
   "cell_type": "code",
   "execution_count": 1,
   "metadata": {},
   "outputs": [],
   "source": [
    "from tweetkey import consumer_api_key, consumer_api_secret_key, access_token, access_secret_token"
   ]
  },
  {
   "cell_type": "code",
   "execution_count": 2,
   "metadata": {},
   "outputs": [],
   "source": [
    "import tweepy\n",
    "import pandas as pd\n",
    "import time "
   ]
  },
  {
   "cell_type": "code",
   "execution_count": 3,
   "metadata": {},
   "outputs": [],
   "source": [
    "auth = tweepy.OAuthHandler(consumer_api_key, consumer_api_secret_key)\n",
    "auth.set_access_token(access_token, access_secret_token)\n",
    "\n",
    "api = tweepy.API(auth, wait_on_rate_limit=True)"
   ]
  },
  {
   "cell_type": "code",
   "execution_count": 10,
   "metadata": {},
   "outputs": [],
   "source": [
    "rain_jyp_tweets = tweepy.Cursor(api.search, q='나로 바꾸자').items(150)\n",
    "    \n",
    "rain_jyp_tweets_list = [[rain_jyp_tweet.created_at, rain_jyp_tweet.id, rain_jyp_tweet.text, \n",
    "                      rain_jyp_tweet.favorite_count] \n",
    "                     for rain_jyp_tweet in rain_jyp_tweets\n",
    "                    ]\n",
    "    \n",
    "rain_jyp_tweets_df = pd.DataFrame(rain_jyp_tweets_list)"
   ]
  },
  {
   "cell_type": "code",
   "execution_count": 14,
   "metadata": {},
   "outputs": [
    {
     "data": {
      "text/html": [
       "<div>\n",
       "<style scoped>\n",
       "    .dataframe tbody tr th:only-of-type {\n",
       "        vertical-align: middle;\n",
       "    }\n",
       "\n",
       "    .dataframe tbody tr th {\n",
       "        vertical-align: top;\n",
       "    }\n",
       "\n",
       "    .dataframe thead th {\n",
       "        text-align: right;\n",
       "    }\n",
       "</style>\n",
       "<table border=\"1\" class=\"dataframe\">\n",
       "  <thead>\n",
       "    <tr style=\"text-align: right;\">\n",
       "      <th></th>\n",
       "      <th>0</th>\n",
       "      <th>1</th>\n",
       "      <th>2</th>\n",
       "      <th>3</th>\n",
       "    </tr>\n",
       "  </thead>\n",
       "  <tbody>\n",
       "    <tr>\n",
       "      <th>0</th>\n",
       "      <td>2021-05-07 15:19:44</td>\n",
       "      <td>1390687803785179140</td>\n",
       "      <td>@nyong_taetae 나로바꾸자아아아아아아앙</td>\n",
       "      <td>0</td>\n",
       "    </tr>\n",
       "    <tr>\n",
       "      <th>1</th>\n",
       "      <td>2021-05-07 14:43:41</td>\n",
       "      <td>1390678728456429570</td>\n",
       "      <td>RT @ENHYPEN_members: 현재 엔하이픈 차트 2주째 1위를 달리고있는 ...</td>\n",
       "      <td>0</td>\n",
       "    </tr>\n",
       "    <tr>\n",
       "      <th>2</th>\n",
       "      <td>2021-05-07 09:20:30</td>\n",
       "      <td>1390597396787236866</td>\n",
       "      <td>RT @JYPETWICE: “나로 바꾸자 Switch to me” by DAHYUN...</td>\n",
       "      <td>0</td>\n",
       "    </tr>\n",
       "    <tr>\n",
       "      <th>3</th>\n",
       "      <td>2021-05-07 09:20:25</td>\n",
       "      <td>1390597375412998156</td>\n",
       "      <td>RT @JYPETWICE: DAHYUN &amp;amp; CHAEYOUNG “나로 바꾸자 ...</td>\n",
       "      <td>0</td>\n",
       "    </tr>\n",
       "    <tr>\n",
       "      <th>4</th>\n",
       "      <td>2021-05-07 08:09:40</td>\n",
       "      <td>1390579571976671234</td>\n",
       "      <td>RT @boong_sm: #엔시티_23명_절대지켜\\n수만깅! 자꾸 그러면 \\n#에스...</td>\n",
       "      <td>0</td>\n",
       "    </tr>\n",
       "  </tbody>\n",
       "</table>\n",
       "</div>"
      ],
      "text/plain": [
       "                    0                    1  \\\n",
       "0 2021-05-07 15:19:44  1390687803785179140   \n",
       "1 2021-05-07 14:43:41  1390678728456429570   \n",
       "2 2021-05-07 09:20:30  1390597396787236866   \n",
       "3 2021-05-07 09:20:25  1390597375412998156   \n",
       "4 2021-05-07 08:09:40  1390579571976671234   \n",
       "\n",
       "                                                   2  3  \n",
       "0                         @nyong_taetae 나로바꾸자아아아아아아앙  0  \n",
       "1  RT @ENHYPEN_members: 현재 엔하이픈 차트 2주째 1위를 달리고있는 ...  0  \n",
       "2  RT @JYPETWICE: “나로 바꾸자 Switch to me” by DAHYUN...  0  \n",
       "3  RT @JYPETWICE: DAHYUN &amp; CHAEYOUNG “나로 바꾸자 ...  0  \n",
       "4  RT @boong_sm: #엔시티_23명_절대지켜\\n수만깅! 자꾸 그러면 \\n#에스...  0  "
      ]
     },
     "execution_count": 14,
     "metadata": {},
     "output_type": "execute_result"
    }
   ],
   "source": [
    "rain_jyp_tweets_df.head()"
   ]
  },
  {
   "cell_type": "code",
   "execution_count": 15,
   "metadata": {},
   "outputs": [
    {
     "data": {
      "text/html": [
       "<div>\n",
       "<style scoped>\n",
       "    .dataframe tbody tr th:only-of-type {\n",
       "        vertical-align: middle;\n",
       "    }\n",
       "\n",
       "    .dataframe tbody tr th {\n",
       "        vertical-align: top;\n",
       "    }\n",
       "\n",
       "    .dataframe thead th {\n",
       "        text-align: right;\n",
       "    }\n",
       "</style>\n",
       "<table border=\"1\" class=\"dataframe\">\n",
       "  <thead>\n",
       "    <tr style=\"text-align: right;\">\n",
       "      <th></th>\n",
       "      <th>0</th>\n",
       "      <th>1</th>\n",
       "      <th>2</th>\n",
       "      <th>3</th>\n",
       "    </tr>\n",
       "  </thead>\n",
       "  <tbody>\n",
       "    <tr>\n",
       "      <th>145</th>\n",
       "      <td>2021-05-04 22:34:43</td>\n",
       "      <td>1389710106011443200</td>\n",
       "      <td>RT @nyongkz: 한지성 나로 바꾸자 추는 거 개좋다... https://t....</td>\n",
       "      <td>0</td>\n",
       "    </tr>\n",
       "    <tr>\n",
       "      <th>146</th>\n",
       "      <td>2021-05-04 20:23:56</td>\n",
       "      <td>1389677191479414785</td>\n",
       "      <td>RT @gustavobaeza_: “나로 바꾸자 Switch to me” by DA...</td>\n",
       "      <td>0</td>\n",
       "    </tr>\n",
       "    <tr>\n",
       "      <th>147</th>\n",
       "      <td>2021-05-04 20:22:40</td>\n",
       "      <td>1389676875396513795</td>\n",
       "      <td>RT @__EB980603__: 나로 바꾸자 구팔즈 https://t.co/Y2v7...</td>\n",
       "      <td>0</td>\n",
       "    </tr>\n",
       "    <tr>\n",
       "      <th>148</th>\n",
       "      <td>2021-05-04 20:20:56</td>\n",
       "      <td>1389676440208162816</td>\n",
       "      <td>RT @gustavobaeza_: “나로 바꾸자 Switch to me” by DA...</td>\n",
       "      <td>0</td>\n",
       "    </tr>\n",
       "    <tr>\n",
       "      <th>149</th>\n",
       "      <td>2021-05-04 20:20:51</td>\n",
       "      <td>1389676418334969857</td>\n",
       "      <td>“나로 바꾸자 Switch to me” by DAHYUN and CHAEYOUNG ...</td>\n",
       "      <td>0</td>\n",
       "    </tr>\n",
       "  </tbody>\n",
       "</table>\n",
       "</div>"
      ],
      "text/plain": [
       "                      0                    1  \\\n",
       "145 2021-05-04 22:34:43  1389710106011443200   \n",
       "146 2021-05-04 20:23:56  1389677191479414785   \n",
       "147 2021-05-04 20:22:40  1389676875396513795   \n",
       "148 2021-05-04 20:20:56  1389676440208162816   \n",
       "149 2021-05-04 20:20:51  1389676418334969857   \n",
       "\n",
       "                                                     2  3  \n",
       "145  RT @nyongkz: 한지성 나로 바꾸자 추는 거 개좋다... https://t....  0  \n",
       "146  RT @gustavobaeza_: “나로 바꾸자 Switch to me” by DA...  0  \n",
       "147  RT @__EB980603__: 나로 바꾸자 구팔즈 https://t.co/Y2v7...  0  \n",
       "148  RT @gustavobaeza_: “나로 바꾸자 Switch to me” by DA...  0  \n",
       "149  “나로 바꾸자 Switch to me” by DAHYUN and CHAEYOUNG ...  0  "
      ]
     },
     "execution_count": 15,
     "metadata": {},
     "output_type": "execute_result"
    }
   ],
   "source": [
    "rain_jyp_tweets_df.tail()"
   ]
  },
  {
   "cell_type": "code",
   "execution_count": 12,
   "metadata": {},
   "outputs": [],
   "source": [
    "rain_jyp_eng_tweets = tweepy.Cursor(api.search, q='switch with me JYP Rain').items(150)\n",
    "    \n",
    "rain_jyp_eng_tweets_list = [[rain_jyp_eng_tweet.created_at, rain_jyp_eng_tweet.id, rain_jyp_eng_tweet.text, \n",
    "                      rain_jyp_eng_tweet.favorite_count] \n",
    "                     for rain_jyp_eng_tweet in rain_jyp_eng_tweets\n",
    "                    ]\n",
    "    \n",
    "rain_jyp_eng_tweets_df = pd.DataFrame(rain_jyp_eng_tweets_list)"
   ]
  },
  {
   "cell_type": "code",
   "execution_count": 13,
   "metadata": {},
   "outputs": [
    {
     "data": {
      "text/html": [
       "<div>\n",
       "<style scoped>\n",
       "    .dataframe tbody tr th:only-of-type {\n",
       "        vertical-align: middle;\n",
       "    }\n",
       "\n",
       "    .dataframe tbody tr th {\n",
       "        vertical-align: top;\n",
       "    }\n",
       "\n",
       "    .dataframe thead th {\n",
       "        text-align: right;\n",
       "    }\n",
       "</style>\n",
       "<table border=\"1\" class=\"dataframe\">\n",
       "  <thead>\n",
       "    <tr style=\"text-align: right;\">\n",
       "      <th></th>\n",
       "      <th>0</th>\n",
       "      <th>1</th>\n",
       "      <th>2</th>\n",
       "      <th>3</th>\n",
       "    </tr>\n",
       "  </thead>\n",
       "  <tbody>\n",
       "    <tr>\n",
       "      <th>0</th>\n",
       "      <td>2021-05-04 12:05:03</td>\n",
       "      <td>1389551647152476170</td>\n",
       "      <td>RAIN(비) - \"나로 바꾸자 Switch to me (duet with JYP)...</td>\n",
       "      <td>0</td>\n",
       "    </tr>\n",
       "    <tr>\n",
       "      <th>1</th>\n",
       "      <td>2021-05-03 13:46:54</td>\n",
       "      <td>1389214887016947715</td>\n",
       "      <td>サンドゥ、学校へ行こう！\\n\\nRAIN(비) - \"나로 바꾸자 Switch to me...</td>\n",
       "      <td>0</td>\n",
       "    </tr>\n",
       "    <tr>\n",
       "      <th>2</th>\n",
       "      <td>2021-05-03 12:50:31</td>\n",
       "      <td>1389200700756742149</td>\n",
       "      <td>RAIN(비) - \"나로 바꾸자 Switch to me (duet with JYP)...</td>\n",
       "      <td>0</td>\n",
       "    </tr>\n",
       "    <tr>\n",
       "      <th>3</th>\n",
       "      <td>2021-05-02 03:40:27</td>\n",
       "      <td>1388699882660061187</td>\n",
       "      <td>can someone please tell me why jyp has fucking...</td>\n",
       "      <td>1</td>\n",
       "    </tr>\n",
       "    <tr>\n",
       "      <th>4</th>\n",
       "      <td>2021-05-01 10:16:52</td>\n",
       "      <td>1388437254733910017</td>\n",
       "      <td>@NiziU88646314 @TENCH0713 新世代アメリカンソウル＆ポップの原点とも...</td>\n",
       "      <td>3</td>\n",
       "    </tr>\n",
       "  </tbody>\n",
       "</table>\n",
       "</div>"
      ],
      "text/plain": [
       "                    0                    1  \\\n",
       "0 2021-05-04 12:05:03  1389551647152476170   \n",
       "1 2021-05-03 13:46:54  1389214887016947715   \n",
       "2 2021-05-03 12:50:31  1389200700756742149   \n",
       "3 2021-05-02 03:40:27  1388699882660061187   \n",
       "4 2021-05-01 10:16:52  1388437254733910017   \n",
       "\n",
       "                                                   2  3  \n",
       "0  RAIN(비) - \"나로 바꾸자 Switch to me (duet with JYP)...  0  \n",
       "1  サンドゥ、学校へ行こう！\\n\\nRAIN(비) - \"나로 바꾸자 Switch to me...  0  \n",
       "2  RAIN(비) - \"나로 바꾸자 Switch to me (duet with JYP)...  0  \n",
       "3  can someone please tell me why jyp has fucking...  1  \n",
       "4  @NiziU88646314 @TENCH0713 新世代アメリカンソウル＆ポップの原点とも...  3  "
      ]
     },
     "execution_count": 13,
     "metadata": {},
     "output_type": "execute_result"
    }
   ],
   "source": [
    "rain_jyp_eng_tweets_df.head()"
   ]
  },
  {
   "cell_type": "code",
   "execution_count": 16,
   "metadata": {},
   "outputs": [
    {
     "data": {
      "text/html": [
       "<div>\n",
       "<style scoped>\n",
       "    .dataframe tbody tr th:only-of-type {\n",
       "        vertical-align: middle;\n",
       "    }\n",
       "\n",
       "    .dataframe tbody tr th {\n",
       "        vertical-align: top;\n",
       "    }\n",
       "\n",
       "    .dataframe thead th {\n",
       "        text-align: right;\n",
       "    }\n",
       "</style>\n",
       "<table border=\"1\" class=\"dataframe\">\n",
       "  <thead>\n",
       "    <tr style=\"text-align: right;\">\n",
       "      <th></th>\n",
       "      <th>0</th>\n",
       "      <th>1</th>\n",
       "      <th>2</th>\n",
       "      <th>3</th>\n",
       "    </tr>\n",
       "  </thead>\n",
       "  <tbody>\n",
       "    <tr>\n",
       "      <th>0</th>\n",
       "      <td>2021-05-04 12:05:03</td>\n",
       "      <td>1389551647152476170</td>\n",
       "      <td>RAIN(비) - \"나로 바꾸자 Switch to me (duet with JYP)...</td>\n",
       "      <td>0</td>\n",
       "    </tr>\n",
       "    <tr>\n",
       "      <th>1</th>\n",
       "      <td>2021-05-03 13:46:54</td>\n",
       "      <td>1389214887016947715</td>\n",
       "      <td>サンドゥ、学校へ行こう！\\n\\nRAIN(비) - \"나로 바꾸자 Switch to me...</td>\n",
       "      <td>0</td>\n",
       "    </tr>\n",
       "    <tr>\n",
       "      <th>2</th>\n",
       "      <td>2021-05-03 12:50:31</td>\n",
       "      <td>1389200700756742149</td>\n",
       "      <td>RAIN(비) - \"나로 바꾸자 Switch to me (duet with JYP)...</td>\n",
       "      <td>0</td>\n",
       "    </tr>\n",
       "    <tr>\n",
       "      <th>3</th>\n",
       "      <td>2021-05-02 03:40:27</td>\n",
       "      <td>1388699882660061187</td>\n",
       "      <td>can someone please tell me why jyp has fucking...</td>\n",
       "      <td>1</td>\n",
       "    </tr>\n",
       "    <tr>\n",
       "      <th>4</th>\n",
       "      <td>2021-05-01 10:16:52</td>\n",
       "      <td>1388437254733910017</td>\n",
       "      <td>@NiziU88646314 @TENCH0713 新世代アメリカンソウル＆ポップの原点とも...</td>\n",
       "      <td>3</td>\n",
       "    </tr>\n",
       "  </tbody>\n",
       "</table>\n",
       "</div>"
      ],
      "text/plain": [
       "                    0                    1  \\\n",
       "0 2021-05-04 12:05:03  1389551647152476170   \n",
       "1 2021-05-03 13:46:54  1389214887016947715   \n",
       "2 2021-05-03 12:50:31  1389200700756742149   \n",
       "3 2021-05-02 03:40:27  1388699882660061187   \n",
       "4 2021-05-01 10:16:52  1388437254733910017   \n",
       "\n",
       "                                                   2  3  \n",
       "0  RAIN(비) - \"나로 바꾸자 Switch to me (duet with JYP)...  0  \n",
       "1  サンドゥ、学校へ行こう！\\n\\nRAIN(비) - \"나로 바꾸자 Switch to me...  0  \n",
       "2  RAIN(비) - \"나로 바꾸자 Switch to me (duet with JYP)...  0  \n",
       "3  can someone please tell me why jyp has fucking...  1  \n",
       "4  @NiziU88646314 @TENCH0713 新世代アメリカンソウル＆ポップの原点とも...  3  "
      ]
     },
     "execution_count": 16,
     "metadata": {},
     "output_type": "execute_result"
    }
   ],
   "source": [
    "rain_jyp_eng_tweets_df.tail()"
   ]
  },
  {
   "cell_type": "code",
   "execution_count": null,
   "metadata": {},
   "outputs": [],
   "source": []
  },
  {
   "cell_type": "code",
   "execution_count": null,
   "metadata": {},
   "outputs": [],
   "source": []
  },
  {
   "cell_type": "code",
   "execution_count": null,
   "metadata": {},
   "outputs": [],
   "source": []
  },
  {
   "cell_type": "code",
   "execution_count": null,
   "metadata": {},
   "outputs": [],
   "source": []
  },
  {
   "cell_type": "code",
   "execution_count": null,
   "metadata": {},
   "outputs": [],
   "source": []
  }
 ],
 "metadata": {
  "kernelspec": {
   "display_name": "Python 3",
   "language": "python",
   "name": "python3"
  },
  "language_info": {
   "codemirror_mode": {
    "name": "ipython",
    "version": 3
   },
   "file_extension": ".py",
   "mimetype": "text/x-python",
   "name": "python",
   "nbconvert_exporter": "python",
   "pygments_lexer": "ipython3",
   "version": "3.7.6"
  }
 },
 "nbformat": 4,
 "nbformat_minor": 4
}
