{
 "cells": [
  {
   "cell_type": "markdown",
   "metadata": {},
   "source": [
    "# Sekai No Owari Tweet Scraping"
   ]
  },
  {
   "cell_type": "code",
   "execution_count": null,
   "metadata": {},
   "outputs": [],
   "source": [
    "from tweetkey import consumer_api_key, consumer_api_secret_key, access_token, access_secret_token"
   ]
  },
  {
   "cell_type": "code",
   "execution_count": null,
   "metadata": {},
   "outputs": [],
   "source": [
    "import tweepy\n",
    "import pandas as pd\n",
    "import time "
   ]
  },
  {
   "cell_type": "code",
   "execution_count": null,
   "metadata": {},
   "outputs": [],
   "source": [
    "auth = tweepy.OAuthHandler(consumer_api_key, consumer_api_secret_key)\n",
    "auth.set_access_token(access_token, access_secret_token)\n",
    "\n",
    "api = tweepy.API(auth, wait_on_rate_limit=True)"
   ]
  },
  {
   "cell_type": "code",
   "execution_count": null,
   "metadata": {},
   "outputs": [],
   "source": [
    "# try:\n",
    "#     sekai_tweets = tweepy.Cursor(api.search, q='sekai no owari').items(50)\n",
    "    \n",
    "#     sekai_tweets_list = [[sekai_tweet.created_at, sekai_tweet.id, sekai_tweet.text, \n",
    "#                           sekai_tweet.user, sekai_tweet.favorite_count] \n",
    "#                          for sekai_tweet in sekai_tweets]\n",
    "    \n",
    "#     sekai_tweets_df = pd.DataFrame(sekai_tweets_list)\n",
    "    \n",
    "# except BaseException as e:\n",
    "#     print('failed to load', str(e))\n",
    "#     time.sleep(3)"
   ]
  },
  {
   "cell_type": "code",
   "execution_count": null,
   "metadata": {},
   "outputs": [],
   "source": [
    "# Get the User object for twitter...\n",
    "sekai_user = api.get_user('SekaiNoOwariOFC')"
   ]
  },
  {
   "cell_type": "code",
   "execution_count": null,
   "metadata": {},
   "outputs": [],
   "source": [
    "sekai_user"
   ]
  },
  {
   "cell_type": "code",
   "execution_count": null,
   "metadata": {},
   "outputs": [],
   "source": [
    "# Get Timeline from Sekai No Owari Tweets\n",
    "\n",
    "sekai_screen_name = \"SekaiNoOwariOFC\"\n",
    "\n",
    "sekai_feed = api.user_timeline(sekai_screen_name)\n",
    "\n",
    "# sekai_feed = api.home_timeline(150)\n",
    "\n",
    "for sekai in sekai_feed:\n",
    "    print(\"Tweet:\")\n",
    "    print(sekai.text)\n",
    "    print(\"---------------\")"
   ]
  },
  {
   "cell_type": "code",
   "execution_count": null,
   "metadata": {},
   "outputs": [],
   "source": [
    "sekai_tweets = tweepy.Cursor(api.search, q='sekai no owari umbrella').items(150)\n",
    "    \n",
    "sekai_tweets_list = [[sekai_tweet.created_at, sekai_tweet.id, sekai_tweet.text, \n",
    "                      sekai_tweet.favorite_count] \n",
    "                     for sekai_tweet in sekai_tweets\n",
    "                    ]\n",
    "    \n",
    "sekai_tweets_df = pd.DataFrame(sekai_tweets_list)"
   ]
  },
  {
   "cell_type": "code",
   "execution_count": null,
   "metadata": {},
   "outputs": [],
   "source": [
    "sekai_tweets_df.head()"
   ]
  },
  {
   "cell_type": "code",
   "execution_count": null,
   "metadata": {},
   "outputs": [],
   "source": [
    "sekai_tweets_df.tail()"
   ]
  }
 ],
 "metadata": {
  "kernelspec": {
   "display_name": "Python 3",
   "language": "python",
   "name": "python3"
  },
  "language_info": {
   "codemirror_mode": {
    "name": "ipython",
    "version": 3
   },
   "file_extension": ".py",
   "mimetype": "text/x-python",
   "name": "python",
   "nbconvert_exporter": "python",
   "pygments_lexer": "ipython3",
   "version": "3.7.6"
  }
 },
 "nbformat": 4,
 "nbformat_minor": 4
}
